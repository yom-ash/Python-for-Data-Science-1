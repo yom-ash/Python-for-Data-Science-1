{
 "cells": [
  {
   "cell_type": "markdown",
   "metadata": {},
   "source": [
    "You will need the class Car for the next exercises. The class Car has four data attributes: make, model, colour and number of owners (owner_number). The method <code> car_info() </code>  prints out the data attributes and the method <code>sell()</code> increments the number of owners. "
   ]
  },
  {
   "cell_type": "code",
   "execution_count": 1,
   "metadata": {},
   "outputs": [],
   "source": [
    "class Car(object):\n",
    "    def __init__(self,make,model,color):\n",
    "        self.make=make;\n",
    "        self.model=model;\n",
    "        self.color=color;\n",
    "        self.owner_number=0 \n",
    "    def car_info(self):\n",
    "        print(\"make: \",self.make)\n",
    "        print(\"model:\", self.model)\n",
    "        print(\"color:\",self.color)\n",
    "        print(\"number of owners:\",self.owner_number)\n",
    "    def sell(self):\n",
    "        self.owner_number=self.owner_number+1"
   ]
  },
  {
   "cell_type": "markdown",
   "metadata": {},
   "source": [
    "<h3> Create a Car object </h3>"
   ]
  },
  {
   "cell_type": "markdown",
   "metadata": {},
   "source": [
    "Create a <code> Car </code> object my_car with the given data attributes: "
   ]
  },
  {
   "cell_type": "code",
   "execution_count": 2,
   "metadata": {},
   "outputs": [],
   "source": [
    "make=\"BMW\"\n",
    "model=\"M3\"\n",
    "color=\"red\"\n",
    "my_car = Car(\"BMW\", \"M3\", \"red\")"
   ]
  },
  {
   "cell_type": "markdown",
   "metadata": {},
   "source": [
    "<h3> Data Attributes </h3>"
   ]
  },
  {
   "cell_type": "markdown",
   "metadata": {},
   "source": [
    "Use the method car_info() to print out the data attributes"
   ]
  },
  {
   "cell_type": "code",
   "execution_count": 3,
   "metadata": {},
   "outputs": [
    {
     "name": "stdout",
     "output_type": "stream",
     "text": [
      "make:  BMW\n",
      "model: M3\n",
      "color: red\n",
      "number of owners: 0\n"
     ]
    }
   ],
   "source": [
    "my_car.car_info()"
   ]
  },
  {
   "cell_type": "code",
   "execution_count": 9,
   "metadata": {},
   "outputs": [
    {
     "name": "stdout",
     "output_type": "stream",
     "text": [
      "make:  Accord\n",
      "model: Honda\n",
      "color: blue\n",
      "number of owners: 0\n"
     ]
    }
   ],
   "source": [
    "my_car2 = Car(\"Accord\",\"Honda\",\"blue\")\n",
    "my_car2.car_info()"
   ]
  },
  {
   "cell_type": "markdown",
   "metadata": {},
   "source": [
    "<h3> Methods  </h3>"
   ]
  },
  {
   "cell_type": "markdown",
   "metadata": {},
   "source": [
    "Call the method <code> sell() </code> in the loop, then call the method <code> car_info()</code> again "
   ]
  },
  {
   "cell_type": "code",
   "execution_count": 4,
   "metadata": {},
   "outputs": [
    {
     "name": "stdout",
     "output_type": "stream",
     "text": [
      "make:  BMW\n",
      "model: M3\n",
      "color: red\n",
      "number of owners: 1\n",
      "make:  BMW\n",
      "model: M3\n",
      "color: red\n",
      "number of owners: 2\n",
      "make:  BMW\n",
      "model: M3\n",
      "color: red\n",
      "number of owners: 3\n",
      "make:  BMW\n",
      "model: M3\n",
      "color: red\n",
      "number of owners: 4\n",
      "make:  BMW\n",
      "model: M3\n",
      "color: red\n",
      "number of owners: 5\n"
     ]
    }
   ],
   "source": [
    "for i in range(5):\n",
    "    my_car.sell()\n",
    "    my_car.car_info()\n"
   ]
  },
  {
   "cell_type": "code",
   "execution_count": 30,
   "metadata": {},
   "outputs": [],
   "source": [
    "class Circle:\n",
    "    def __init__(self, radius, color):\n",
    "        self.radius = radius\n",
    "        self.color = color\n",
    "    def area(self):\n",
    "        areacal= 3.142*(self.radius**2)\n",
    "        print(areacal)\n",
    "    def add_radius(self, r):\n",
    "        new_radius = self.radius + r\n",
    "        return(new_radius)"
   ]
  },
  {
   "cell_type": "code",
   "execution_count": 31,
   "metadata": {},
   "outputs": [
    {
     "name": "stdout",
     "output_type": "stream",
     "text": [
      "78.55\n"
     ]
    },
    {
     "data": {
      "text/plain": [
       "14"
      ]
     },
     "execution_count": 31,
     "metadata": {},
     "output_type": "execute_result"
    }
   ],
   "source": [
    "circle1 = Circle(5, \"green\")\n",
    "circle1.area()\n",
    "circle1.add_radius(9)"
   ]
  },
  {
   "cell_type": "code",
   "execution_count": 38,
   "metadata": {},
   "outputs": [],
   "source": [
    "class rectangle:\n",
    "    def __init__(self, length, breadth, height):\n",
    "        self.length = length\n",
    "        self.breadth = breadth\n",
    "        self.height = height\n",
    "    def perimeter(self):\n",
    "        peri = (2*self.length)+(2*self.breadth)\n",
    "        return(peri)\n",
    "    def area(self):\n",
    "        area_val = self.length*self.breadth\n",
    "        return(area_val)\n",
    "    def new_area (self, l, b):\n",
    "        value_new_area = (self.length+l)*(self.breadth+b)\n",
    "        return(value_new_area)\n",
    "    "
   ]
  },
  {
   "cell_type": "code",
   "execution_count": 43,
   "metadata": {},
   "outputs": [
    {
     "name": "stdout",
     "output_type": "stream",
     "text": [
      "30\n",
      "50\n",
      "200\n"
     ]
    }
   ],
   "source": [
    "rec1 = rectangle(10, 5, 2)\n",
    "print(rec1.perimeter())\n",
    "print(rec1.area())\n",
    "print(rec1.new_area(10, 5))"
   ]
  },
  {
   "cell_type": "code",
   "execution_count": 45,
   "metadata": {},
   "outputs": [
    {
     "name": "stdout",
     "output_type": "stream",
     "text": [
      "name is:  Segun\n",
      "age is:  14\n"
     ]
    }
   ],
   "source": [
    "class userdetails:\n",
    "    def __init__(self, name, age, sex):\n",
    "        self.name = name\n",
    "        self.age = age\n",
    "        self.sex = sex\n",
    "    def userinfo(self):\n",
    "        print(\"name is: \", self.name)\n",
    "        print(\"age is: \", self.age)\n",
    "p1 = userdetails(\"Segun\", 14, \"Male\")\n",
    "p1.userinfo()"
   ]
  },
  {
   "cell_type": "markdown",
   "metadata": {},
   "source": [
    "<hr>\n",
    "<small>Copyright &copy; 2018 IBM Cognitive Class. This notebook and its source code are released under the terms of the [MIT License](https://cognitiveclass.ai/mit-license/).</small>"
   ]
  }
 ],
 "metadata": {
  "kernelspec": {
   "display_name": "Python 3",
   "language": "python",
   "name": "python3"
  },
  "language_info": {
   "codemirror_mode": {
    "name": "ipython",
    "version": 3
   },
   "file_extension": ".py",
   "mimetype": "text/x-python",
   "name": "python",
   "nbconvert_exporter": "python",
   "pygments_lexer": "ipython3",
   "version": "3.8.5"
  }
 },
 "nbformat": 4,
 "nbformat_minor": 2
}
